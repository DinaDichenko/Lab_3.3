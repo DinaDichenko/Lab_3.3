{
 "cells": [
  {
   "cell_type": "code",
   "execution_count": 1,
   "id": "e81ebc6c",
   "metadata": {},
   "outputs": [],
   "source": [
    "import numpy as np"
   ]
  },
  {
   "cell_type": "markdown",
   "id": "a7833d50",
   "metadata": {},
   "source": [
    "## Транспонирование матрицы"
   ]
  },
  {
   "cell_type": "markdown",
   "id": "2b5c6621",
   "metadata": {},
   "source": [
    "### Свойство 1. Дважды транспонированная матрица равна исходной матрице:"
   ]
  },
  {
   "cell_type": "code",
   "execution_count": 14,
   "id": "b016d070",
   "metadata": {},
   "outputs": [
    {
     "name": "stdout",
     "output_type": "stream",
     "text": [
      "[[ 2  5  7]\n",
      " [ 9  8  1]\n",
      " [12 11  4]\n",
      " [ 7  8  5]]\n"
     ]
    }
   ],
   "source": [
    "A = np.matrix('2 5 7; 9 8 1; 12 11 4; 7 8 5')\n",
    "print(A)"
   ]
  },
  {
   "cell_type": "code",
   "execution_count": 15,
   "id": "32eb865c",
   "metadata": {},
   "outputs": [
    {
     "name": "stdout",
     "output_type": "stream",
     "text": [
      "[[ 2  9 12  7]\n",
      " [ 5  8 11  8]\n",
      " [ 7  1  4  5]]\n"
     ]
    }
   ],
   "source": [
    "print(A.T)"
   ]
  },
  {
   "cell_type": "code",
   "execution_count": 16,
   "id": "48664ca0",
   "metadata": {},
   "outputs": [
    {
     "name": "stdout",
     "output_type": "stream",
     "text": [
      "[[ 2  5  7]\n",
      " [ 9  8  1]\n",
      " [12 11  4]\n",
      " [ 7  8  5]]\n"
     ]
    }
   ],
   "source": [
    "R = (A.T).T\n",
    "print(R)"
   ]
  },
  {
   "cell_type": "markdown",
   "id": "5ce1d4fb",
   "metadata": {},
   "source": [
    "### Свойство 2. Транспонирование суммы матриц равно сумме транспонированных матриц:"
   ]
  },
  {
   "cell_type": "code",
   "execution_count": 17,
   "id": "52d63d66",
   "metadata": {},
   "outputs": [
    {
     "name": "stdout",
     "output_type": "stream",
     "text": [
      "[[ 3 13 19 16]\n",
      " [ 7 13 11 18]\n",
      " [10  7 12 16]]\n"
     ]
    }
   ],
   "source": [
    "B = np.matrix('1 2 3; 4 5 6; 7 0 8; 9 10 11')\n",
    "L = (A + B).T\n",
    "R = A.T + B.T\n",
    "print(L)"
   ]
  },
  {
   "cell_type": "code",
   "execution_count": 18,
   "id": "c0f8d2ab",
   "metadata": {},
   "outputs": [
    {
     "name": "stdout",
     "output_type": "stream",
     "text": [
      "[[ 3 13 19 16]\n",
      " [ 7 13 11 18]\n",
      " [10  7 12 16]]\n"
     ]
    }
   ],
   "source": [
    "print(R)"
   ]
  },
  {
   "cell_type": "markdown",
   "id": "5d337afc",
   "metadata": {},
   "source": [
    "### Свойство 3. Транспонирование произведения матриц равно произведению транспонированных матриц расставленных в обратном порядке:"
   ]
  },
  {
   "cell_type": "code",
   "execution_count": 19,
   "id": "52a09feb",
   "metadata": {},
   "outputs": [
    {
     "name": "stdout",
     "output_type": "stream",
     "text": [
      "[[ 71  48  84]\n",
      " [ 29  58  79]\n",
      " [ 92  83 134]]\n"
     ]
    }
   ],
   "source": [
    "A = np.matrix('2 5 7; 9 8 1; 12 11 4')\n",
    "B = np.matrix('1 2 3; 4 5 6; 7 0 8')\n",
    "L = (A.dot(B)).T\n",
    "R = (B.T).dot(A.T)\n",
    "print(L)"
   ]
  },
  {
   "cell_type": "markdown",
   "id": "4b82257f",
   "metadata": {},
   "source": [
    "### Свойство 4. Транспонирование произведения матрицы на число равно произведению этого числа на транспонированную матрицу:"
   ]
  },
  {
   "cell_type": "code",
   "execution_count": 20,
   "id": "bccf5735",
   "metadata": {},
   "outputs": [
    {
     "name": "stdout",
     "output_type": "stream",
     "text": [
      "[[ 6 27 36]\n",
      " [15 24 33]\n",
      " [21  3 12]]\n"
     ]
    }
   ],
   "source": [
    "k = 3\n",
    "L = (k * A).T\n",
    "R = k * (A.T)\n",
    "print(L)"
   ]
  },
  {
   "cell_type": "code",
   "execution_count": 21,
   "id": "36f69bd8",
   "metadata": {},
   "outputs": [
    {
     "name": "stdout",
     "output_type": "stream",
     "text": [
      "[[ 6 27 36]\n",
      " [15 24 33]\n",
      " [21  3 12]]\n"
     ]
    }
   ],
   "source": [
    "print(R)"
   ]
  },
  {
   "cell_type": "markdown",
   "id": "5f847ef3",
   "metadata": {},
   "source": [
    "### *Свойство 5*. Определители исходной и транспонированной матрицы совпадают:"
   ]
  },
  {
   "cell_type": "code",
   "execution_count": 22,
   "id": "3230d738",
   "metadata": {},
   "outputs": [
    {
     "name": "stdout",
     "output_type": "stream",
     "text": [
      "-57\n"
     ]
    }
   ],
   "source": [
    "A_det = np.linalg.det(A)\n",
    "A_T_det = np.linalg.det(A.T)\n",
    "print(format(A_det, '.9g'))"
   ]
  },
  {
   "cell_type": "code",
   "execution_count": 23,
   "id": "5cd598ed",
   "metadata": {},
   "outputs": [
    {
     "name": "stdout",
     "output_type": "stream",
     "text": [
      "-57\n"
     ]
    }
   ],
   "source": [
    "print(format(A_T_det, '.9g'))"
   ]
  },
  {
   "cell_type": "markdown",
   "id": "b0e0d2e2",
   "metadata": {},
   "source": [
    "## Умножение матрицы на число"
   ]
  },
  {
   "cell_type": "markdown",
   "id": "13242b86",
   "metadata": {},
   "source": [
    "### Свойство 1. Произведение единицы и любой заданной матрицы равно заданной матрице:"
   ]
  },
  {
   "cell_type": "code",
   "execution_count": 24,
   "id": "cc13609f",
   "metadata": {},
   "outputs": [
    {
     "name": "stdout",
     "output_type": "stream",
     "text": [
      "[[ 2  5  7]\n",
      " [ 9  8  1]\n",
      " [12 11  4]]\n"
     ]
    }
   ],
   "source": [
    "L = 1 * A\n",
    "print(L)"
   ]
  },
  {
   "cell_type": "code",
   "execution_count": 25,
   "id": "57f5d052",
   "metadata": {},
   "outputs": [
    {
     "name": "stdout",
     "output_type": "stream",
     "text": [
      "[[ 2  5  7]\n",
      " [ 9  8  1]\n",
      " [12 11  4]]\n"
     ]
    }
   ],
   "source": [
    "print(A)"
   ]
  },
  {
   "cell_type": "markdown",
   "id": "5574963e",
   "metadata": {},
   "source": [
    "### Свойство 2. Произведение нуля и любой матрицы равно нулевой матрице, размерность которой равна исходной матрицы:"
   ]
  },
  {
   "cell_type": "code",
   "execution_count": 26,
   "id": "d4c8b629",
   "metadata": {},
   "outputs": [
    {
     "name": "stdout",
     "output_type": "stream",
     "text": [
      "[[0 0 0]\n",
      " [0 0 0]\n",
      " [0 0 0]]\n"
     ]
    }
   ],
   "source": [
    "Z =np.zeros((3, 3))\n",
    "L = 0 * A\n",
    "R = Z\n",
    "print(L)"
   ]
  },
  {
   "cell_type": "code",
   "execution_count": 27,
   "id": "fdc36473",
   "metadata": {},
   "outputs": [
    {
     "name": "stdout",
     "output_type": "stream",
     "text": [
      "[[0. 0. 0.]\n",
      " [0. 0. 0.]\n",
      " [0. 0. 0.]]\n"
     ]
    }
   ],
   "source": [
    "print(R)"
   ]
  },
  {
   "cell_type": "markdown",
   "id": "e8ff4b4f",
   "metadata": {},
   "source": [
    "### Свойство 3. Произведение матрицы на сумму чисел равно сумме произведений матрицы на каждое из этих чисел:"
   ]
  },
  {
   "cell_type": "code",
   "execution_count": 28,
   "id": "9919bab5",
   "metadata": {},
   "outputs": [
    {
     "name": "stdout",
     "output_type": "stream",
     "text": [
      "[[10 25 35]\n",
      " [45 40  5]\n",
      " [60 55 20]]\n"
     ]
    }
   ],
   "source": [
    "p = 2\n",
    "q = 3\n",
    "L = (p + q) * A\n",
    "R = p * A + q * A\n",
    "print(L)"
   ]
  },
  {
   "cell_type": "code",
   "execution_count": 29,
   "id": "64147acf",
   "metadata": {},
   "outputs": [
    {
     "name": "stdout",
     "output_type": "stream",
     "text": [
      "[[10 25 35]\n",
      " [45 40  5]\n",
      " [60 55 20]]\n"
     ]
    }
   ],
   "source": [
    "print(R)"
   ]
  },
  {
   "cell_type": "markdown",
   "id": "1da61a5a",
   "metadata": {},
   "source": [
    "### Свойство 4. Произведение матрицы на произведение двух чисел равно произведению второго числа и заданной матрицы, умноженному на первое число:"
   ]
  },
  {
   "cell_type": "code",
   "execution_count": 30,
   "id": "cd4d3792",
   "metadata": {},
   "outputs": [
    {
     "name": "stdout",
     "output_type": "stream",
     "text": [
      "[[12 30 42]\n",
      " [54 48  6]\n",
      " [72 66 24]]\n"
     ]
    }
   ],
   "source": [
    "L = (p * q) * A\n",
    "R = p * (q * A)\n",
    "print(L)"
   ]
  },
  {
   "cell_type": "code",
   "execution_count": 31,
   "id": "e0ad6ce5",
   "metadata": {},
   "outputs": [
    {
     "name": "stdout",
     "output_type": "stream",
     "text": [
      "[[12 30 42]\n",
      " [54 48  6]\n",
      " [72 66 24]]\n"
     ]
    }
   ],
   "source": [
    "print(R)"
   ]
  },
  {
   "cell_type": "markdown",
   "id": "5bd01efc",
   "metadata": {},
   "source": [
    "### Свойство 5. Произведение суммы матриц на число равно сумме произведений этих матриц на заданное число:"
   ]
  },
  {
   "cell_type": "code",
   "execution_count": 32,
   "id": "51e57f9e",
   "metadata": {},
   "outputs": [
    {
     "name": "stdout",
     "output_type": "stream",
     "text": [
      "[[ 9 21 30]\n",
      " [39 39 21]\n",
      " [57 33 36]]\n"
     ]
    }
   ],
   "source": [
    "L = k * (A + B)\n",
    "R = k * A + k * B\n",
    "print(L)"
   ]
  },
  {
   "cell_type": "code",
   "execution_count": 33,
   "id": "cbec17f4",
   "metadata": {},
   "outputs": [
    {
     "name": "stdout",
     "output_type": "stream",
     "text": [
      "[[ 9 21 30]\n",
      " [39 39 21]\n",
      " [57 33 36]]\n"
     ]
    }
   ],
   "source": [
    " print(R)"
   ]
  },
  {
   "cell_type": "markdown",
   "id": "d71e791e",
   "metadata": {},
   "source": [
    "## Сложение матриц"
   ]
  },
  {
   "cell_type": "markdown",
   "id": "1918e0e1",
   "metadata": {},
   "source": [
    "### Свойство 1. Коммутативность сложения. От перестановки матриц их сумма не изменяется:"
   ]
  },
  {
   "cell_type": "code",
   "execution_count": 34,
   "id": "44d9f9df",
   "metadata": {},
   "outputs": [
    {
     "name": "stdout",
     "output_type": "stream",
     "text": [
      "[[ 3  7 10]\n",
      " [13 13  7]\n",
      " [19 11 12]]\n"
     ]
    }
   ],
   "source": [
    "L = A + B\n",
    "R = B + A\n",
    "print(L)"
   ]
  },
  {
   "cell_type": "code",
   "execution_count": 35,
   "id": "8d4d1aed",
   "metadata": {},
   "outputs": [
    {
     "name": "stdout",
     "output_type": "stream",
     "text": [
      "[[ 3  7 10]\n",
      " [13 13  7]\n",
      " [19 11 12]]\n"
     ]
    }
   ],
   "source": [
    "print(R)"
   ]
  },
  {
   "cell_type": "markdown",
   "id": "f5fef967",
   "metadata": {},
   "source": [
    "### Свойство 2. Ассоциативность сложения. Результат сложения трех и более матриц не зависит от порядка, в котором эта операция будет выполняться:"
   ]
  },
  {
   "cell_type": "code",
   "execution_count": 36,
   "id": "bd8dbc27",
   "metadata": {},
   "outputs": [
    {
     "name": "stdout",
     "output_type": "stream",
     "text": [
      "[[ 4  8 11]\n",
      " [15 16 11]\n",
      " [26 13 20]]\n"
     ]
    }
   ],
   "source": [
    "C = np.matrix('1 1 1; 2 3 4; 7 2 8')\n",
    "L = A + (B + C)\n",
    "R = (A + B) + C\n",
    "print(L)"
   ]
  },
  {
   "cell_type": "code",
   "execution_count": 37,
   "id": "c05ed2b8",
   "metadata": {},
   "outputs": [
    {
     "name": "stdout",
     "output_type": "stream",
     "text": [
      "[[ 4  8 11]\n",
      " [15 16 11]\n",
      " [26 13 20]]\n"
     ]
    }
   ],
   "source": [
    "print(R)"
   ]
  },
  {
   "cell_type": "markdown",
   "id": "214ccd6d",
   "metadata": {},
   "source": [
    "### Свойство 3. Для любой матрицы существует противоположная ей , такая, что их сумма является нулевой матрицей"
   ]
  },
  {
   "cell_type": "code",
   "execution_count": 38,
   "id": "b277c557",
   "metadata": {},
   "outputs": [
    {
     "name": "stdout",
     "output_type": "stream",
     "text": [
      "[[0 0 0]\n",
      " [0 0 0]\n",
      " [0 0 0]]\n"
     ]
    }
   ],
   "source": [
    "L = A + (-1)*A\n",
    "print(L)"
   ]
  },
  {
   "cell_type": "code",
   "execution_count": 39,
   "id": "cffa369c",
   "metadata": {},
   "outputs": [
    {
     "name": "stdout",
     "output_type": "stream",
     "text": [
      "[[0. 0. 0.]\n",
      " [0. 0. 0.]\n",
      " [0. 0. 0.]]\n"
     ]
    }
   ],
   "source": [
    "print(Z)"
   ]
  },
  {
   "cell_type": "markdown",
   "id": "39511d4b",
   "metadata": {},
   "source": [
    "## Умножение матриц"
   ]
  },
  {
   "cell_type": "markdown",
   "id": "50e8d781",
   "metadata": {},
   "source": [
    "### Свойство 1. Ассоциативность умножения. Результат умножения матриц не зависит от порядка, в котором будет выполняться эта операция:\n"
   ]
  },
  {
   "cell_type": "code",
   "execution_count": 40,
   "id": "569caf4e",
   "metadata": {},
   "outputs": [
    {
     "name": "stdout",
     "output_type": "stream",
     "text": [
      "[[ 773  342  923]\n",
      " [ 745  388  944]\n",
      " [1180  589 1472]]\n"
     ]
    }
   ],
   "source": [
    "L = A.dot(B.dot(C))\n",
    "R = (A.dot(B)).dot(C)\n",
    "print(L)"
   ]
  },
  {
   "cell_type": "code",
   "execution_count": 41,
   "id": "ef201813",
   "metadata": {},
   "outputs": [
    {
     "name": "stdout",
     "output_type": "stream",
     "text": [
      "[[ 773  342  923]\n",
      " [ 745  388  944]\n",
      " [1180  589 1472]]\n"
     ]
    }
   ],
   "source": [
    "print(R)"
   ]
  },
  {
   "cell_type": "markdown",
   "id": "8b3460db",
   "metadata": {},
   "source": [
    "### Свойство 2. Дистрибутивность умножения. Произведение матрицы на сумму матриц равно сумме произведений матриц:\n"
   ]
  },
  {
   "cell_type": "code",
   "execution_count": 42,
   "id": "3c00a9b8",
   "metadata": {},
   "outputs": [
    {
     "name": "stdout",
     "output_type": "stream",
     "text": [
      "[[132  60 170]\n",
      " [ 80  93 132]\n",
      " [146 132 222]]\n"
     ]
    }
   ],
   "source": [
    "L = A.dot(B + C)\n",
    "R = A.dot(B) + A.dot(C)\n",
    "print(L)"
   ]
  },
  {
   "cell_type": "code",
   "execution_count": 43,
   "id": "6ada4683",
   "metadata": {},
   "outputs": [
    {
     "name": "stdout",
     "output_type": "stream",
     "text": [
      "[[132  60 170]\n",
      " [ 80  93 132]\n",
      " [146 132 222]]\n"
     ]
    }
   ],
   "source": [
    "print(R)"
   ]
  },
  {
   "cell_type": "markdown",
   "id": "bca416f5",
   "metadata": {},
   "source": [
    "###  Свойство 3. Умножение матриц в общем виде не коммутативно. Это означает, что для матриц не выполняется правило независимости произведения от перестановки множителей:\n"
   ]
  },
  {
   "cell_type": "code",
   "execution_count": 44,
   "id": "0994e73b",
   "metadata": {},
   "outputs": [
    {
     "name": "stdout",
     "output_type": "stream",
     "text": [
      "[[ 71  29  92]\n",
      " [ 48  58  83]\n",
      " [ 84  79 134]]\n"
     ]
    }
   ],
   "source": [
    "L = A.dot(B)\n",
    "R = B.dot(A)\n",
    "print(L)"
   ]
  },
  {
   "cell_type": "code",
   "execution_count": 45,
   "id": "fd164b97",
   "metadata": {},
   "outputs": [
    {
     "name": "stdout",
     "output_type": "stream",
     "text": [
      "[[ 56  54  21]\n",
      " [125 126  57]\n",
      " [110 123  81]]\n"
     ]
    }
   ],
   "source": [
    "print(R)"
   ]
  },
  {
   "cell_type": "markdown",
   "id": "38f75899",
   "metadata": {},
   "source": [
    "### Свойство 4. Произведение заданной матрицы на единичную равно исходной матрице:\n"
   ]
  },
  {
   "cell_type": "code",
   "execution_count": 46,
   "id": "f3415744",
   "metadata": {},
   "outputs": [
    {
     "name": "stdout",
     "output_type": "stream",
     "text": [
      "[[ 2.  5.  7.]\n",
      " [ 9.  8.  1.]\n",
      " [12. 11.  4.]]\n"
     ]
    }
   ],
   "source": [
    "E = np.identity(3)\n",
    "L = E.dot(A)\n",
    "R = A.dot(E)\n",
    "print(L)"
   ]
  },
  {
   "cell_type": "code",
   "execution_count": 47,
   "id": "1268caa6",
   "metadata": {},
   "outputs": [
    {
     "name": "stdout",
     "output_type": "stream",
     "text": [
      "[[ 2.  5.  7.]\n",
      " [ 9.  8.  1.]\n",
      " [12. 11.  4.]]\n"
     ]
    }
   ],
   "source": [
    "print(R)"
   ]
  },
  {
   "cell_type": "markdown",
   "id": "1817e339",
   "metadata": {},
   "source": [
    "### Свойство 5. Произведение заданной матрицы на нулевую матрицу равно нулевой матрице:"
   ]
  },
  {
   "cell_type": "code",
   "execution_count": 48,
   "id": "4ff02b6b",
   "metadata": {},
   "outputs": [
    {
     "name": "stdout",
     "output_type": "stream",
     "text": [
      "[[0. 0. 0.]\n",
      " [0. 0. 0.]\n",
      " [0. 0. 0.]]\n"
     ]
    }
   ],
   "source": [
    "L = Z.dot(A)\n",
    "R = A.dot(Z)\n",
    "print(L)"
   ]
  },
  {
   "cell_type": "code",
   "execution_count": 49,
   "id": "8497e922",
   "metadata": {},
   "outputs": [
    {
     "name": "stdout",
     "output_type": "stream",
     "text": [
      "[[0. 0. 0.]\n",
      " [0. 0. 0.]\n",
      " [0. 0. 0.]]\n"
     ]
    }
   ],
   "source": [
    "print(R)"
   ]
  },
  {
   "cell_type": "code",
   "execution_count": 50,
   "id": "120cd983",
   "metadata": {},
   "outputs": [
    {
     "name": "stdout",
     "output_type": "stream",
     "text": [
      "[[0. 0. 0.]\n",
      " [0. 0. 0.]\n",
      " [0. 0. 0.]]\n"
     ]
    }
   ],
   "source": [
    "print(Z)"
   ]
  },
  {
   "cell_type": "markdown",
   "id": "c6886736",
   "metadata": {},
   "source": [
    "## Определитель матрицы"
   ]
  },
  {
   "cell_type": "code",
   "execution_count": 54,
   "id": "cfbcce9d",
   "metadata": {
    "scrolled": true
   },
   "outputs": [
    {
     "name": "stdout",
     "output_type": "stream",
     "text": [
      "-57.00000000000001\n"
     ]
    }
   ],
   "source": [
    "print(np.linalg.det(A))"
   ]
  },
  {
   "cell_type": "markdown",
   "id": "eaf661e4",
   "metadata": {},
   "source": [
    "### Свойство 1. Определитель матрицы остается неизменным при ее транспонировании:"
   ]
  },
  {
   "cell_type": "code",
   "execution_count": 52,
   "id": "241c20fe",
   "metadata": {},
   "outputs": [
    {
     "name": "stdout",
     "output_type": "stream",
     "text": [
      "-57.0\n"
     ]
    }
   ],
   "source": [
    "det_A_t = round(np.linalg.det(A.T), 3)\n",
    "print(det_A_t)"
   ]
  },
  {
   "cell_type": "markdown",
   "id": "3f9279b2",
   "metadata": {},
   "source": [
    "### Свойство 2. Если у матрицы есть строка или столбец, состоящие из нулей, то определитель такой матрицы равен нулю:"
   ]
  },
  {
   "cell_type": "code",
   "execution_count": 56,
   "id": "4626c2df",
   "metadata": {},
   "outputs": [
    {
     "name": "stdout",
     "output_type": "stream",
     "text": [
      "[[4 1 2]\n",
      " [0 0 0]\n",
      " [3 7 1]]\n"
     ]
    }
   ],
   "source": [
    "A = np.matrix('4 1 2; 0 0 0; 3 7 1')\n",
    "print(A)"
   ]
  },
  {
   "cell_type": "code",
   "execution_count": 58,
   "id": "ba37144e",
   "metadata": {},
   "outputs": [
    {
     "name": "stdout",
     "output_type": "stream",
     "text": [
      "0.0\n"
     ]
    }
   ],
   "source": [
    "print(np.linalg.det(A))"
   ]
  },
  {
   "cell_type": "markdown",
   "id": "10f41f45",
   "metadata": {},
   "source": [
    "## Обратная матрица"
   ]
  },
  {
   "cell_type": "code",
   "execution_count": 59,
   "id": "a4b3aee2",
   "metadata": {
    "scrolled": true
   },
   "outputs": [
    {
     "name": "stdout",
     "output_type": "stream",
     "text": [
      "[[-0.88888889  0.35555556  0.06666667]\n",
      " [-0.22222222  0.28888889 -0.13333333]\n",
      " [ 0.77777778 -0.31111111  0.06666667]]\n"
     ]
    }
   ],
   "source": [
    "b_inv = np.linalg.inv(B)\n",
    "print(b_inv)"
   ]
  },
  {
   "cell_type": "markdown",
   "id": "4215e589",
   "metadata": {},
   "source": [
    "### Обратная матрица транспонированной матрицы равна транспонированной матрице от обратной матрицы:"
   ]
  },
  {
   "cell_type": "code",
   "execution_count": 60,
   "id": "a3668a9d",
   "metadata": {},
   "outputs": [
    {
     "name": "stdout",
     "output_type": "stream",
     "text": [
      "[[-0.88888889 -0.22222222  0.77777778]\n",
      " [ 0.35555556  0.28888889 -0.31111111]\n",
      " [ 0.06666667 -0.13333333  0.06666667]]\n"
     ]
    }
   ],
   "source": [
    "L = np.linalg.inv(B.T)\n",
    "R = (np.linalg.inv(B)).T\n",
    "print(L)"
   ]
  },
  {
   "cell_type": "code",
   "execution_count": 61,
   "id": "84698ec9",
   "metadata": {
    "scrolled": true
   },
   "outputs": [
    {
     "name": "stdout",
     "output_type": "stream",
     "text": [
      "[[-0.88888889 -0.22222222  0.77777778]\n",
      " [ 0.35555556  0.28888889 -0.31111111]\n",
      " [ 0.06666667 -0.13333333  0.06666667]]\n"
     ]
    }
   ],
   "source": [
    "print(R)"
   ]
  },
  {
   "cell_type": "markdown",
   "id": "e2c9a503",
   "metadata": {},
   "source": [
    "### Обратная матрица произведения матриц равна произведению обратных матриц:"
   ]
  },
  {
   "cell_type": "code",
   "execution_count": 62,
   "id": "3c22b8e8",
   "metadata": {},
   "outputs": [
    {
     "name": "stdout",
     "output_type": "stream",
     "text": [
      "[[ 0.47368421  1.31851852 -1.14191033]\n",
      " [ 0.21052632  0.6962963  -0.57582846]\n",
      " [-0.42105263 -1.23703704  1.06276803]]\n"
     ]
    }
   ],
   "source": [
    "A = np.matrix('2 5 7; 9 8 1; 12 11 4')\n",
    "L = np.linalg.inv(A.dot(B))\n",
    "R = np.linalg.inv(B).dot(np.linalg.inv(A))\n",
    "print(L)"
   ]
  },
  {
   "cell_type": "code",
   "execution_count": 63,
   "id": "d669a7c1",
   "metadata": {},
   "outputs": [
    {
     "name": "stdout",
     "output_type": "stream",
     "text": [
      "[[ 0.47368421  1.31851852 -1.14191033]\n",
      " [ 0.21052632  0.6962963  -0.57582846]\n",
      " [-0.42105263 -1.23703704  1.06276803]]\n"
     ]
    }
   ],
   "source": [
    "print(R)"
   ]
  },
  {
   "cell_type": "markdown",
   "id": "de590d79",
   "metadata": {},
   "source": [
    "## Ранг матрицы"
   ]
  },
  {
   "cell_type": "code",
   "execution_count": 64,
   "id": "e0a19318",
   "metadata": {},
   "outputs": [
    {
     "name": "stdout",
     "output_type": "stream",
     "text": [
      "3\n"
     ]
    }
   ],
   "source": [
    "rank = np.linalg.matrix_rank(A)\n",
    "print(rank)"
   ]
  },
  {
   "cell_type": "code",
   "execution_count": null,
   "id": "6a98c922",
   "metadata": {},
   "outputs": [],
   "source": []
  }
 ],
 "metadata": {
  "kernelspec": {
   "display_name": "Python 3 (ipykernel)",
   "language": "python",
   "name": "python3"
  },
  "language_info": {
   "codemirror_mode": {
    "name": "ipython",
    "version": 3
   },
   "file_extension": ".py",
   "mimetype": "text/x-python",
   "name": "python",
   "nbconvert_exporter": "python",
   "pygments_lexer": "ipython3",
   "version": "3.11.3"
  }
 },
 "nbformat": 4,
 "nbformat_minor": 5
}
