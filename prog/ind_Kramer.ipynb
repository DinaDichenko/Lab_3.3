{
 "cells": [
  {
   "cell_type": "markdown",
   "id": "8f56033f",
   "metadata": {},
   "source": [
    "## Решение систем линейных уравнений матричным методом "
   ]
  },
  {
   "cell_type": "markdown",
   "id": "b8309e3c",
   "metadata": {},
   "source": [
    "$$\n",
    "\\left\\{\\begin{array}\\\\\n",
    "    2x_1 - 4x_2 + 3x_3 = 1\\\\\n",
    "    x_1 - 2x_2 + 4x_3 = 3\\\\\n",
    "    3x_1 - x2 + 5x_3 = 2\n",
    "    \\end{array}\n",
    "    \\right.\n",
    "$$\n",
    "    "
   ]
  },
  {
   "cell_type": "markdown",
   "id": "16a55ba5",
   "metadata": {},
   "source": [
    "#### Записываем систему в виде матричного уравнения АX = B, где\n",
    "#### A - матрица коэффициэнтов\n",
    "#### Х - матрица неизвестных \n",
    "#### B - матрица результатов"
   ]
  },
  {
   "cell_type": "code",
   "execution_count": 1,
   "id": "d18e9504",
   "metadata": {},
   "outputs": [],
   "source": [
    "import numpy as np"
   ]
  },
  {
   "cell_type": "code",
   "execution_count": 4,
   "id": "401f40dd",
   "metadata": {},
   "outputs": [
    {
     "name": "stdout",
     "output_type": "stream",
     "text": [
      "[[ 2 -4  3]\n",
      " [ 1 -2  4]\n",
      " [ 2 -1  5]]\n"
     ]
    }
   ],
   "source": [
    "A = np.matrix('2 -4 3; 1 -2 4; 2 -1 5')\n",
    "B = np.matrix('1; 2; 3')\n",
    "print(A)"
   ]
  },
  {
   "cell_type": "code",
   "execution_count": 5,
   "id": "40e2fbe3",
   "metadata": {},
   "outputs": [
    {
     "name": "stdout",
     "output_type": "stream",
     "text": [
      "[[1]\n",
      " [2]\n",
      " [3]]\n"
     ]
    }
   ],
   "source": [
    "print(B)"
   ]
  },
  {
   "cell_type": "code",
   "execution_count": 6,
   "id": "a0faf107",
   "metadata": {},
   "outputs": [
    {
     "name": "stdout",
     "output_type": "stream",
     "text": [
      "-15.0\n"
     ]
    }
   ],
   "source": [
    "print(np.linalg.det(A))"
   ]
  },
  {
   "cell_type": "markdown",
   "id": "40b89223",
   "metadata": {},
   "source": [
    "#### Определитель не равняется 0, следовательно, для этой системы подходит метод решения обратной матрицей"
   ]
  },
  {
   "cell_type": "markdown",
   "id": "725944a2",
   "metadata": {},
   "source": [
    "#### Находим обратную матрицу"
   ]
  },
  {
   "cell_type": "code",
   "execution_count": 7,
   "id": "1e925057",
   "metadata": {},
   "outputs": [
    {
     "name": "stdout",
     "output_type": "stream",
     "text": [
      "[[ 0.4        -1.13333333  0.66666667]\n",
      " [-0.2        -0.26666667  0.33333333]\n",
      " [-0.2         0.4         0.        ]]\n"
     ]
    }
   ],
   "source": [
    "A_inv = np.linalg.inv(A)\n",
    "print(A_inv)"
   ]
  },
  {
   "cell_type": "markdown",
   "id": "06ca0383",
   "metadata": {},
   "source": [
    "#### Решение системы линейных алгебраических уравнений матричным методом определяется по формуле $$ X = A^{-1} * B $$"
   ]
  },
  {
   "cell_type": "code",
   "execution_count": 8,
   "id": "92ce559e",
   "metadata": {},
   "outputs": [
    {
     "name": "stdout",
     "output_type": "stream",
     "text": [
      "[[0.13333333]\n",
      " [0.26666667]\n",
      " [0.6       ]]\n"
     ]
    }
   ],
   "source": [
    "X = A_inv.dot(B)\n",
    "print(X)"
   ]
  },
  {
   "cell_type": "code",
   "execution_count": 9,
   "id": "de086776",
   "metadata": {},
   "outputs": [
    {
     "name": "stdout",
     "output_type": "stream",
     "text": [
      "x1 =  [[0.13333333]]\n"
     ]
    }
   ],
   "source": [
    "print(\"x1 = \", X[0])"
   ]
  },
  {
   "cell_type": "code",
   "execution_count": 10,
   "id": "4de6637c",
   "metadata": {},
   "outputs": [
    {
     "name": "stdout",
     "output_type": "stream",
     "text": [
      "x2 =  [[0.26666667]]\n"
     ]
    }
   ],
   "source": [
    "print(\"x2 = \", X[1])"
   ]
  },
  {
   "cell_type": "code",
   "execution_count": 12,
   "id": "b0afddaa",
   "metadata": {},
   "outputs": [
    {
     "name": "stdout",
     "output_type": "stream",
     "text": [
      "x3 =  [[0.6]]\n"
     ]
    }
   ],
   "source": [
    "print(\"x3 = \", X[2])"
   ]
  },
  {
   "cell_type": "markdown",
   "id": "3a5e2d3c",
   "metadata": {},
   "source": [
    "## Решение систем линейных уравнений методом Крамера"
   ]
  },
  {
   "cell_type": "markdown",
   "id": "13442d56",
   "metadata": {},
   "source": [
    "#### Теорема Крамера . Если определитель системы отличен от нуля, то система линейных уравнений имеет одно единственное решение, причём неизвестное равно отношению определителей. В знаменателе – определитель системы, а в числителе – определитель, полученный из определителя системы путём замены коэффициентов при этом неизвестном свободными членами. Эта теорема имеет место для системы линейных уравнений любого порядка."
   ]
  },
  {
   "cell_type": "code",
   "execution_count": 16,
   "id": "2fb511be",
   "metadata": {},
   "outputs": [],
   "source": [
    "a1 = [2, 1, 2]\n",
    "a2 = [-4, -2, -1]\n",
    "a3 = [3, 4, 5]\n",
    "b = [1, 2, 3]"
   ]
  },
  {
   "cell_type": "code",
   "execution_count": 17,
   "id": "3fc77380",
   "metadata": {},
   "outputs": [
    {
     "name": "stdout",
     "output_type": "stream",
     "text": [
      "[[ 2 -4  3]\n",
      " [ 1 -2  4]\n",
      " [ 2 -1  5]]\n"
     ]
    }
   ],
   "source": [
    "A = np.transpose(np.matrix([a1, a2, a3]))\n",
    "print(A)"
   ]
  },
  {
   "cell_type": "code",
   "execution_count": 18,
   "id": "32d51692",
   "metadata": {},
   "outputs": [
    {
     "name": "stdout",
     "output_type": "stream",
     "text": [
      "[[1]\n",
      " [2]\n",
      " [3]]\n"
     ]
    }
   ],
   "source": [
    "B = np.transpose(np.matrix([b]))\n",
    "print(B)"
   ]
  },
  {
   "cell_type": "markdown",
   "id": "fc57eef4",
   "metadata": {},
   "source": [
    "#### Определяем вспомогательные матрицы"
   ]
  },
  {
   "cell_type": "code",
   "execution_count": 19,
   "id": "b642d781",
   "metadata": {},
   "outputs": [
    {
     "name": "stdout",
     "output_type": "stream",
     "text": [
      "[[ 1 -4  3]\n",
      " [ 2 -2  4]\n",
      " [ 3 -1  5]]\n"
     ]
    }
   ],
   "source": [
    "A1 = np.transpose(np.matrix([b, a2, a3]))\n",
    "print(A1)"
   ]
  },
  {
   "cell_type": "code",
   "execution_count": 20,
   "id": "e60485f9",
   "metadata": {},
   "outputs": [
    {
     "name": "stdout",
     "output_type": "stream",
     "text": [
      "[[2 1 3]\n",
      " [1 2 4]\n",
      " [2 3 5]]\n"
     ]
    }
   ],
   "source": [
    "A2 = np.transpose(np.matrix([a1, b, a3]))\n",
    "print(A2)"
   ]
  },
  {
   "cell_type": "code",
   "execution_count": 21,
   "id": "8e634aa2",
   "metadata": {},
   "outputs": [
    {
     "name": "stdout",
     "output_type": "stream",
     "text": [
      "[[ 2 -4  1]\n",
      " [ 1 -2  2]\n",
      " [ 2 -1  3]]\n"
     ]
    }
   ],
   "source": [
    "A3 = np.transpose(np.matrix([a1, a2, b]))\n",
    "print(A3)"
   ]
  },
  {
   "cell_type": "markdown",
   "id": "5ab9ddc2",
   "metadata": {},
   "source": [
    "#### Находим определители главной и вспомогательной матриц"
   ]
  },
  {
   "cell_type": "code",
   "execution_count": 24,
   "id": "51300b2f",
   "metadata": {},
   "outputs": [
    {
     "name": "stdout",
     "output_type": "stream",
     "text": [
      "|A| =  -15\n",
      "|A1| =  -2\n",
      "|A2| =  -4\n",
      "|A3| =  -9\n"
     ]
    }
   ],
   "source": [
    "A_det = round(np.linalg.det(A))\n",
    "A1_det = round(np.linalg.det(A1))\n",
    "A2_det = round(np.linalg.det(A2))\n",
    "A3_det = round(np.linalg.det(A3))\n",
    "print(\"|A| = \", A_det)\n",
    "print(\"|A1| = \", A1_det)\n",
    "print(\"|A2| = \", A2_det)\n",
    "print(\"|A3| = \", A3_det)"
   ]
  },
  {
   "cell_type": "code",
   "execution_count": 25,
   "id": "5d3fba9f",
   "metadata": {},
   "outputs": [
    {
     "name": "stdout",
     "output_type": "stream",
     "text": [
      "x =  0.13333333333333333\n",
      "y =  0.26666666666666666\n",
      "z =  0.6\n"
     ]
    }
   ],
   "source": [
    "x1 = A1_det / A_det\n",
    "x2 = A2_det / A_det\n",
    "x3 = A3_det / A_det\n",
    "print(\"x = \", x1)\n",
    "print(\"y = \", x2)\n",
    "print(\"z = \", x3)"
   ]
  },
  {
   "cell_type": "code",
   "execution_count": null,
   "id": "06d0df3d",
   "metadata": {},
   "outputs": [],
   "source": []
  }
 ],
 "metadata": {
  "kernelspec": {
   "display_name": "Python 3 (ipykernel)",
   "language": "python",
   "name": "python3"
  },
  "language_info": {
   "codemirror_mode": {
    "name": "ipython",
    "version": 3
   },
   "file_extension": ".py",
   "mimetype": "text/x-python",
   "name": "python",
   "nbconvert_exporter": "python",
   "pygments_lexer": "ipython3",
   "version": "3.11.3"
  }
 },
 "nbformat": 4,
 "nbformat_minor": 5
}
